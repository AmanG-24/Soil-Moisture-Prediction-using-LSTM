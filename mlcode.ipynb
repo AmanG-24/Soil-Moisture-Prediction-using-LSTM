{
 "cells": [
  {
   "cell_type": "code",
   "execution_count": 1,
   "id": "55830a28",
   "metadata": {},
   "outputs": [
    {
     "name": "stdout",
     "output_type": "stream",
     "text": [
      "WARNING:tensorflow:From c:\\Python\\lib\\site-packages\\keras\\src\\losses.py:2976: The name tf.losses.sparse_softmax_cross_entropy is deprecated. Please use tf.compat.v1.losses.sparse_softmax_cross_entropy instead.\n",
      "\n"
     ]
    }
   ],
   "source": [
    "import numpy as np\n",
    "from tensorflow.keras.models import Sequential\n",
    "from tensorflow.keras.layers import LSTM\n",
    "from tensorflow.keras.layers import Dense, Dropout, LeakyReLU\n",
    "from tensorflow.keras.callbacks import EarlyStopping\n",
    "import pandas as pd\n",
    "from matplotlib import pyplot as plt\n",
    "from sklearn.preprocessing import StandardScaler\n",
    "import seaborn as sns"
   ]
  },
  {
   "cell_type": "code",
   "execution_count": 2,
   "id": "7d2a1f73",
   "metadata": {},
   "outputs": [],
   "source": [
    "df = pd.read_csv('jalandhar10.csv')"
   ]
  },
  {
   "cell_type": "code",
   "execution_count": null,
   "id": "3a359784",
   "metadata": {},
   "outputs": [],
   "source": []
  },
  {
   "cell_type": "code",
   "execution_count": 3,
   "id": "d74356eb",
   "metadata": {
    "scrolled": true
   },
   "outputs": [
    {
     "data": {
      "text/html": [
       "<div>\n",
       "<style scoped>\n",
       "    .dataframe tbody tr th:only-of-type {\n",
       "        vertical-align: middle;\n",
       "    }\n",
       "\n",
       "    .dataframe tbody tr th {\n",
       "        vertical-align: top;\n",
       "    }\n",
       "\n",
       "    .dataframe thead th {\n",
       "        text-align: right;\n",
       "    }\n",
       "</style>\n",
       "<table border=\"1\" class=\"dataframe\">\n",
       "  <thead>\n",
       "    <tr style=\"text-align: right;\">\n",
       "      <th></th>\n",
       "      <th>time</th>\n",
       "      <th>soilmoisture7to28cm</th>\n",
       "      <th>temperature2m</th>\n",
       "      <th>relativehumidity2m</th>\n",
       "      <th>precipitation</th>\n",
       "    </tr>\n",
       "  </thead>\n",
       "  <tbody>\n",
       "    <tr>\n",
       "      <th>0</th>\n",
       "      <td>2013-12-15T00:00</td>\n",
       "      <td>0.174</td>\n",
       "      <td>9.5</td>\n",
       "      <td>92</td>\n",
       "      <td>0.0</td>\n",
       "    </tr>\n",
       "    <tr>\n",
       "      <th>1</th>\n",
       "      <td>2013-12-15T01:00</td>\n",
       "      <td>0.174</td>\n",
       "      <td>9.3</td>\n",
       "      <td>93</td>\n",
       "      <td>0.0</td>\n",
       "    </tr>\n",
       "    <tr>\n",
       "      <th>2</th>\n",
       "      <td>2013-12-15T02:00</td>\n",
       "      <td>0.174</td>\n",
       "      <td>9.1</td>\n",
       "      <td>93</td>\n",
       "      <td>0.0</td>\n",
       "    </tr>\n",
       "    <tr>\n",
       "      <th>3</th>\n",
       "      <td>2013-12-15T03:00</td>\n",
       "      <td>0.174</td>\n",
       "      <td>10.7</td>\n",
       "      <td>90</td>\n",
       "      <td>0.0</td>\n",
       "    </tr>\n",
       "    <tr>\n",
       "      <th>4</th>\n",
       "      <td>2013-12-15T04:00</td>\n",
       "      <td>0.174</td>\n",
       "      <td>14.7</td>\n",
       "      <td>73</td>\n",
       "      <td>0.0</td>\n",
       "    </tr>\n",
       "  </tbody>\n",
       "</table>\n",
       "</div>"
      ],
      "text/plain": [
       "               time  soilmoisture7to28cm  temperature2m  relativehumidity2m  \\\n",
       "0  2013-12-15T00:00                0.174            9.5                  92   \n",
       "1  2013-12-15T01:00                0.174            9.3                  93   \n",
       "2  2013-12-15T02:00                0.174            9.1                  93   \n",
       "3  2013-12-15T03:00                0.174           10.7                  90   \n",
       "4  2013-12-15T04:00                0.174           14.7                  73   \n",
       "\n",
       "   precipitation  \n",
       "0            0.0  \n",
       "1            0.0  \n",
       "2            0.0  \n",
       "3            0.0  \n",
       "4            0.0  "
      ]
     },
     "execution_count": 3,
     "metadata": {},
     "output_type": "execute_result"
    }
   ],
   "source": [
    "df.head()"
   ]
  },
  {
   "cell_type": "code",
   "execution_count": 4,
   "id": "65fe6810",
   "metadata": {},
   "outputs": [],
   "source": [
    "df['time'] = pd.to_datetime(df['time'], format='%Y-%m-%dT%H:%M')"
   ]
  },
  {
   "cell_type": "code",
   "execution_count": 5,
   "id": "ce65362f",
   "metadata": {},
   "outputs": [
    {
     "data": {
      "text/plain": [
       "time                   87672\n",
       "soilmoisture7to28cm    87672\n",
       "temperature2m          87672\n",
       "relativehumidity2m     87672\n",
       "precipitation          87672\n",
       "dtype: int64"
      ]
     },
     "execution_count": 5,
     "metadata": {},
     "output_type": "execute_result"
    }
   ],
   "source": [
    "df.count()"
   ]
  },
  {
   "cell_type": "code",
   "execution_count": 8,
   "id": "defbcc9a",
   "metadata": {},
   "outputs": [],
   "source": [
    "df1 = df.copy()"
   ]
  },
  {
   "cell_type": "code",
   "execution_count": 9,
   "id": "d50ae540",
   "metadata": {},
   "outputs": [],
   "source": [
    "df1.set_index('time', inplace=True)"
   ]
  },
  {
   "cell_type": "code",
   "execution_count": 10,
   "id": "205212ac",
   "metadata": {},
   "outputs": [
    {
     "data": {
      "text/html": [
       "<div>\n",
       "<style scoped>\n",
       "    .dataframe tbody tr th:only-of-type {\n",
       "        vertical-align: middle;\n",
       "    }\n",
       "\n",
       "    .dataframe tbody tr th {\n",
       "        vertical-align: top;\n",
       "    }\n",
       "\n",
       "    .dataframe thead th {\n",
       "        text-align: right;\n",
       "    }\n",
       "</style>\n",
       "<table border=\"1\" class=\"dataframe\">\n",
       "  <thead>\n",
       "    <tr style=\"text-align: right;\">\n",
       "      <th></th>\n",
       "      <th>soilmoisture7to28cm</th>\n",
       "      <th>temperature2m</th>\n",
       "      <th>relativehumidity2m</th>\n",
       "      <th>precipitation</th>\n",
       "    </tr>\n",
       "    <tr>\n",
       "      <th>time</th>\n",
       "      <th></th>\n",
       "      <th></th>\n",
       "      <th></th>\n",
       "      <th></th>\n",
       "    </tr>\n",
       "  </thead>\n",
       "  <tbody>\n",
       "    <tr>\n",
       "      <th>2013-12-15 00:00:00</th>\n",
       "      <td>0.174</td>\n",
       "      <td>9.5</td>\n",
       "      <td>92</td>\n",
       "      <td>0.0</td>\n",
       "    </tr>\n",
       "    <tr>\n",
       "      <th>2013-12-15 01:00:00</th>\n",
       "      <td>0.174</td>\n",
       "      <td>9.3</td>\n",
       "      <td>93</td>\n",
       "      <td>0.0</td>\n",
       "    </tr>\n",
       "    <tr>\n",
       "      <th>2013-12-15 02:00:00</th>\n",
       "      <td>0.174</td>\n",
       "      <td>9.1</td>\n",
       "      <td>93</td>\n",
       "      <td>0.0</td>\n",
       "    </tr>\n",
       "    <tr>\n",
       "      <th>2013-12-15 03:00:00</th>\n",
       "      <td>0.174</td>\n",
       "      <td>10.7</td>\n",
       "      <td>90</td>\n",
       "      <td>0.0</td>\n",
       "    </tr>\n",
       "    <tr>\n",
       "      <th>2013-12-15 04:00:00</th>\n",
       "      <td>0.174</td>\n",
       "      <td>14.7</td>\n",
       "      <td>73</td>\n",
       "      <td>0.0</td>\n",
       "    </tr>\n",
       "  </tbody>\n",
       "</table>\n",
       "</div>"
      ],
      "text/plain": [
       "                     soilmoisture7to28cm  temperature2m  relativehumidity2m  \\\n",
       "time                                                                          \n",
       "2013-12-15 00:00:00                0.174            9.5                  92   \n",
       "2013-12-15 01:00:00                0.174            9.3                  93   \n",
       "2013-12-15 02:00:00                0.174            9.1                  93   \n",
       "2013-12-15 03:00:00                0.174           10.7                  90   \n",
       "2013-12-15 04:00:00                0.174           14.7                  73   \n",
       "\n",
       "                     precipitation  \n",
       "time                                \n",
       "2013-12-15 00:00:00            0.0  \n",
       "2013-12-15 01:00:00            0.0  \n",
       "2013-12-15 02:00:00            0.0  \n",
       "2013-12-15 03:00:00            0.0  \n",
       "2013-12-15 04:00:00            0.0  "
      ]
     },
     "execution_count": 10,
     "metadata": {},
     "output_type": "execute_result"
    }
   ],
   "source": [
    "df1.head()"
   ]
  },
  {
   "cell_type": "code",
   "execution_count": 11,
   "id": "a48bcd26",
   "metadata": {},
   "outputs": [],
   "source": [
    "features = df1.to_numpy()\n",
    "target = df1.to_numpy()[:, 0]"
   ]
  },
  {
   "cell_type": "code",
   "execution_count": 12,
   "id": "1349a386",
   "metadata": {},
   "outputs": [],
   "source": [
    "from sklearn.model_selection import train_test_split"
   ]
  },
  {
   "cell_type": "code",
   "execution_count": 13,
   "id": "62e11d86",
   "metadata": {},
   "outputs": [],
   "source": [
    "from keras.preprocessing.sequence import TimeseriesGenerator"
   ]
  },
  {
   "cell_type": "code",
   "execution_count": 14,
   "id": "ef58b7ce",
   "metadata": {},
   "outputs": [],
   "source": [
    "X_train, X_test, y_train, y_test = train_test_split(features, target, test_size=0.2, shuffle=False)"
   ]
  },
  {
   "cell_type": "code",
   "execution_count": 15,
   "id": "6674ca8f",
   "metadata": {},
   "outputs": [],
   "source": [
    "win_length = 48\n",
    "batch_size = 8760\n",
    "num_features = 4\n",
    "train_gen = TimeseriesGenerator(X_train, y_train, length=win_length, sampling_rate=1, batch_size=batch_size)\n",
    "test_gen = TimeseriesGenerator(X_test, y_test, length=win_length, sampling_rate=1, batch_size=batch_size)"
   ]
  },
  {
   "cell_type": "code",
   "execution_count": 16,
   "id": "a0c163d0",
   "metadata": {},
   "outputs": [
    {
     "name": "stdout",
     "output_type": "stream",
     "text": [
      "WARNING:tensorflow:From c:\\Python\\lib\\site-packages\\keras\\src\\backend.py:873: The name tf.get_default_graph is deprecated. Please use tf.compat.v1.get_default_graph instead.\n",
      "\n"
     ]
    }
   ],
   "source": [
    "m = Sequential()\n",
    "m.add(LSTM(128,activation = 'sigmoid', input_shape=(win_length, num_features), return_sequences=True))\n",
    "#m.add(LeakyReLU(alpha=0.5))\n",
    "m.add(LSTM(64,activation = 'sigmoid', return_sequences=True))\n",
    "#m.add(LeakyReLU(alpha=0.5))\n",
    "#m.add(Dropout(0.2))\n",
    "m.add(LSTM(32, return_sequences=True))\n",
    "#m.add(Dropout(0.2))\n",
    "m.add(LSTM(32, return_sequences=False))\n",
    "m.add(Dense(1))"
   ]
  },
  {
   "cell_type": "code",
   "execution_count": 17,
   "id": "1d0555b5",
   "metadata": {
    "scrolled": true
   },
   "outputs": [
    {
     "name": "stdout",
     "output_type": "stream",
     "text": [
      "Model: \"sequential\"\n",
      "_________________________________________________________________\n",
      " Layer (type)                Output Shape              Param #   \n",
      "=================================================================\n",
      " lstm (LSTM)                 (None, 48, 128)           68096     \n",
      "                                                                 \n",
      " lstm_1 (LSTM)               (None, 48, 64)            49408     \n",
      "                                                                 \n",
      " lstm_2 (LSTM)               (None, 48, 32)            12416     \n",
      "                                                                 \n",
      " lstm_3 (LSTM)               (None, 32)                8320      \n",
      "                                                                 \n",
      " dense (Dense)               (None, 1)                 33        \n",
      "                                                                 \n",
      "=================================================================\n",
      "Total params: 138273 (540.13 KB)\n",
      "Trainable params: 138273 (540.13 KB)\n",
      "Non-trainable params: 0 (0.00 Byte)\n",
      "_________________________________________________________________\n"
     ]
    }
   ],
   "source": [
    "m.summary()"
   ]
  },
  {
   "cell_type": "code",
   "execution_count": 18,
   "id": "ae42bcd9",
   "metadata": {},
   "outputs": [],
   "source": [
    "from tensorflow.keras.optimizers.legacy import Adam"
   ]
  },
  {
   "cell_type": "code",
   "execution_count": 19,
   "id": "a88654cf",
   "metadata": {},
   "outputs": [
    {
     "name": "stdout",
     "output_type": "stream",
     "text": [
      "Epoch 1/15\n",
      "WARNING:tensorflow:From c:\\Python\\lib\\site-packages\\keras\\src\\utils\\tf_utils.py:492: The name tf.ragged.RaggedTensorValue is deprecated. Please use tf.compat.v1.ragged.RaggedTensorValue instead.\n",
      "\n",
      "WARNING:tensorflow:From c:\\Python\\lib\\site-packages\\keras\\src\\engine\\base_layer_utils.py:384: The name tf.executing_eagerly_outside_functions is deprecated. Please use tf.compat.v1.executing_eagerly_outside_functions instead.\n",
      "\n",
      "9/9 [==============================] - 154s 14s/step - loss: 0.0161 - accuracy: 0.0000e+00 - val_loss: 0.0039 - val_accuracy: 0.0000e+00\n",
      "Epoch 2/15\n",
      "9/9 [==============================] - 119s 13s/step - loss: 0.0056 - accuracy: 0.0000e+00 - val_loss: 0.0035 - val_accuracy: 0.0000e+00\n",
      "Epoch 3/15\n",
      "9/9 [==============================] - 114s 13s/step - loss: 0.0052 - accuracy: 0.0000e+00 - val_loss: 0.0032 - val_accuracy: 0.0000e+00\n",
      "Epoch 4/15\n",
      "9/9 [==============================] - 114s 13s/step - loss: 0.0054 - accuracy: 0.0000e+00 - val_loss: 0.0031 - val_accuracy: 0.0000e+00\n",
      "Epoch 5/15\n",
      "9/9 [==============================] - 144s 16s/step - loss: 0.0047 - accuracy: 0.0000e+00 - val_loss: 0.0028 - val_accuracy: 0.0000e+00\n",
      "Epoch 6/15\n",
      "9/9 [==============================] - 109s 12s/step - loss: 0.0044 - accuracy: 0.0000e+00 - val_loss: 0.0028 - val_accuracy: 0.0000e+00\n",
      "Epoch 7/15\n",
      "9/9 [==============================] - 115s 13s/step - loss: 0.0045 - accuracy: 0.0000e+00 - val_loss: 0.0027 - val_accuracy: 0.0000e+00\n",
      "Epoch 8/15\n",
      "9/9 [==============================] - 111s 12s/step - loss: 0.0044 - accuracy: 0.0000e+00 - val_loss: 0.0026 - val_accuracy: 0.0000e+00\n",
      "Epoch 9/15\n",
      "9/9 [==============================] - 109s 12s/step - loss: 0.0041 - accuracy: 0.0000e+00 - val_loss: 0.0025 - val_accuracy: 0.0000e+00\n",
      "Epoch 10/15\n",
      "9/9 [==============================] - 108s 12s/step - loss: 0.0040 - accuracy: 0.0000e+00 - val_loss: 0.0024 - val_accuracy: 0.0000e+00\n",
      "Epoch 11/15\n",
      "9/9 [==============================] - 109s 12s/step - loss: 0.0039 - accuracy: 0.0000e+00 - val_loss: 0.0024 - val_accuracy: 0.0000e+00\n",
      "Epoch 12/15\n",
      "9/9 [==============================] - 109s 12s/step - loss: 0.0039 - accuracy: 0.0000e+00 - val_loss: 0.0024 - val_accuracy: 0.0000e+00\n",
      "Epoch 13/15\n",
      "9/9 [==============================] - 110s 12s/step - loss: 0.0037 - accuracy: 0.0000e+00 - val_loss: 0.0023 - val_accuracy: 0.0000e+00\n",
      "Epoch 14/15\n",
      "9/9 [==============================] - 108s 12s/step - loss: 0.0035 - accuracy: 0.0000e+00 - val_loss: 0.0023 - val_accuracy: 0.0000e+00\n",
      "Epoch 15/15\n",
      "9/9 [==============================] - 113s 13s/step - loss: 0.0034 - accuracy: 0.0000e+00 - val_loss: 0.0024 - val_accuracy: 0.0000e+00\n"
     ]
    }
   ],
   "source": [
    "early_stopping = EarlyStopping(monitor='val_loss', patience=2, mode='min')\n",
    "\n",
    "m.compile(loss='mse', optimizer=Adam(), metrics=['accuracy'])\n",
    "\n",
    "history = m.fit(train_gen, epochs=15, validation_data=test_gen, shuffle=False, callbacks=[early_stopping])"
   ]
  },
  {
   "cell_type": "code",
   "execution_count": 20,
   "id": "9e88b094",
   "metadata": {},
   "outputs": [
    {
     "name": "stderr",
     "output_type": "stream",
     "text": [
      "C:\\Users\\amang\\AppData\\Local\\Temp\\ipykernel_5088\\1688752275.py:1: UserWarning: `Model.evaluate_generator` is deprecated and will be removed in a future version. Please use `Model.evaluate`, which supports generators.\n",
      "  m.evaluate_generator(test_gen, verbose=0)\n"
     ]
    },
    {
     "data": {
      "text/plain": [
       "[0.002420394914224744, 0.0]"
      ]
     },
     "execution_count": 20,
     "metadata": {},
     "output_type": "execute_result"
    }
   ],
   "source": [
    "m.evaluate_generator(test_gen, verbose=0)"
   ]
  },
  {
   "cell_type": "code",
   "execution_count": 21,
   "id": "92cd1758",
   "metadata": {},
   "outputs": [
    {
     "name": "stdout",
     "output_type": "stream",
     "text": [
      "2/2 [==============================] - 14s 5s/step\n"
     ]
    }
   ],
   "source": [
    "predictions = m.predict(test_gen)"
   ]
  },
  {
   "cell_type": "code",
   "execution_count": 22,
   "id": "e923bc57",
   "metadata": {},
   "outputs": [
    {
     "data": {
      "text/plain": [
       "17487"
      ]
     },
     "execution_count": 22,
     "metadata": {},
     "output_type": "execute_result"
    }
   ],
   "source": [
    "len(predictions)"
   ]
  },
  {
   "cell_type": "code",
   "execution_count": 23,
   "id": "f1a2c485",
   "metadata": {},
   "outputs": [
    {
     "data": {
      "text/html": [
       "<div>\n",
       "<style scoped>\n",
       "    .dataframe tbody tr th:only-of-type {\n",
       "        vertical-align: middle;\n",
       "    }\n",
       "\n",
       "    .dataframe tbody tr th {\n",
       "        vertical-align: top;\n",
       "    }\n",
       "\n",
       "    .dataframe thead th {\n",
       "        text-align: right;\n",
       "    }\n",
       "</style>\n",
       "<table border=\"1\" class=\"dataframe\">\n",
       "  <thead>\n",
       "    <tr style=\"text-align: right;\">\n",
       "      <th></th>\n",
       "      <th>soilmoisture7to28cm</th>\n",
       "      <th>temperature2m</th>\n",
       "      <th>relativehumidity2m</th>\n",
       "      <th>precipitation</th>\n",
       "    </tr>\n",
       "    <tr>\n",
       "      <th>time</th>\n",
       "      <th></th>\n",
       "      <th></th>\n",
       "      <th></th>\n",
       "      <th></th>\n",
       "    </tr>\n",
       "  </thead>\n",
       "  <tbody>\n",
       "    <tr>\n",
       "      <th>2013-12-15 00:00:00</th>\n",
       "      <td>0.174</td>\n",
       "      <td>9.5</td>\n",
       "      <td>92</td>\n",
       "      <td>0.0</td>\n",
       "    </tr>\n",
       "    <tr>\n",
       "      <th>2013-12-15 01:00:00</th>\n",
       "      <td>0.174</td>\n",
       "      <td>9.3</td>\n",
       "      <td>93</td>\n",
       "      <td>0.0</td>\n",
       "    </tr>\n",
       "    <tr>\n",
       "      <th>2013-12-15 02:00:00</th>\n",
       "      <td>0.174</td>\n",
       "      <td>9.1</td>\n",
       "      <td>93</td>\n",
       "      <td>0.0</td>\n",
       "    </tr>\n",
       "    <tr>\n",
       "      <th>2013-12-15 03:00:00</th>\n",
       "      <td>0.174</td>\n",
       "      <td>10.7</td>\n",
       "      <td>90</td>\n",
       "      <td>0.0</td>\n",
       "    </tr>\n",
       "    <tr>\n",
       "      <th>2013-12-15 04:00:00</th>\n",
       "      <td>0.174</td>\n",
       "      <td>14.7</td>\n",
       "      <td>73</td>\n",
       "      <td>0.0</td>\n",
       "    </tr>\n",
       "  </tbody>\n",
       "</table>\n",
       "</div>"
      ],
      "text/plain": [
       "                     soilmoisture7to28cm  temperature2m  relativehumidity2m  \\\n",
       "time                                                                          \n",
       "2013-12-15 00:00:00                0.174            9.5                  92   \n",
       "2013-12-15 01:00:00                0.174            9.3                  93   \n",
       "2013-12-15 02:00:00                0.174            9.1                  93   \n",
       "2013-12-15 03:00:00                0.174           10.7                  90   \n",
       "2013-12-15 04:00:00                0.174           14.7                  73   \n",
       "\n",
       "                     precipitation  \n",
       "time                                \n",
       "2013-12-15 00:00:00            0.0  \n",
       "2013-12-15 01:00:00            0.0  \n",
       "2013-12-15 02:00:00            0.0  \n",
       "2013-12-15 03:00:00            0.0  \n",
       "2013-12-15 04:00:00            0.0  "
      ]
     },
     "execution_count": 23,
     "metadata": {},
     "output_type": "execute_result"
    }
   ],
   "source": [
    "df1.head()"
   ]
  },
  {
   "cell_type": "code",
   "execution_count": 24,
   "id": "dfd506cc",
   "metadata": {},
   "outputs": [],
   "source": [
    "df2 = df1[['soilmoisture7to28cm']][-len(predictions):].copy()"
   ]
  },
  {
   "cell_type": "code",
   "execution_count": 25,
   "id": "4dff976e",
   "metadata": {},
   "outputs": [],
   "source": [
    "df2['pred'] = predictions"
   ]
  },
  {
   "cell_type": "code",
   "execution_count": 26,
   "id": "e1b33417",
   "metadata": {},
   "outputs": [
    {
     "data": {
      "text/plain": [
       "<Axes: xlabel='time'>"
      ]
     },
     "execution_count": 26,
     "metadata": {},
     "output_type": "execute_result"
    },
    {
     "data": {
      "image/png": "[encoded data removed]",
      "text/plain": [
       "<Figure size 640x480 with 1 Axes>"
      ]
     },
     "metadata": {},
     "output_type": "display_data"
    }
   ],
   "source": [
    "df2.plot(y=[\"soilmoisture7to28cm\", \"pred\"])"
   ]
  },
  {
   "cell_type": "code",
   "execution_count": null,
   "id": "1c35cdd2",
   "metadata": {},
   "outputs": [],
   "source": []
  }
 ],
 "metadata": {
  "kernelspec": {
   "display_name": "Python 3 (ipykernel)",
   "language": "python",
   "name": "python3"
  },
  "language_info": {
   "codemirror_mode": {
    "name": "ipython",
    "version": 3
   },
   "file_extension": ".py",
   "mimetype": "text/x-python",
   "name": "python",
   "nbconvert_exporter": "python",
   "pygments_lexer": "ipython3",
   "version": "3.10.4"
  }
 },
 "nbformat": 4,
 "nbformat_minor": 5
}
